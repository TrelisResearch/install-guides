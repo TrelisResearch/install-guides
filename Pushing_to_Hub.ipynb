{
  "cells": [
    {
      "cell_type": "markdown",
      "metadata": {
        "id": "XIyP_0r6zuVc"
      },
      "source": [
        "# Pushing to Hub\n",
        "A simple notebook for uploading, downloading and pushing models to HuggingFace Hub. Including for quantized models!\n",
        "\n",
        "[Open the notebook in Google Colab](https://colab.research.google.com/drive/1DgwzDwNQNv_NAwLnGCKHiO4-XhGVqg6-?usp=sharing).\n",
        "\n",
        "OR\n",
        "\n",
        "Run using Runpod, Vast.ai or your own GPU by following the guide [here](https://github.com/TrelisResearch/install-guides/blob/main/llm-notebook-setup.md).\n",
        "\n",
        "---\n",
        "\n",
        "Built by Trelis Research. Find us at [Trelis.com](https://trelis.com) and on [HuggingFace](https://huggingface.co/Trelis).\n",
        "\n",
        "*Trelis Research emails members each time a new video tutorial is published. If you'd like, you can join [here](https://trelis.substack.com).*"
      ]
    },
    {
      "cell_type": "code",
      "execution_count": null,
      "metadata": {
        "id": "3mIq-qR4ybWT",
        "outputId": "221fc217-02a4-4b87-ef40-2ec951b48221"
      },
      "outputs": [
        {
          "name": "stdout",
          "output_type": "stream",
          "text": [
            "\u001b[33mWARNING: Running pip as the 'root' user can result in broken permissions and conflicting behaviour with the system package manager. It is recommended to use a virtual environment instead: https://pip.pypa.io/warnings/venv\u001b[0m\u001b[33m\n",
            "\u001b[0m\u001b[33mWARNING: Running pip as the 'root' user can result in broken permissions and conflicting behaviour with the system package manager. It is recommended to use a virtual environment instead: https://pip.pypa.io/warnings/venv\u001b[0m\u001b[33m\n",
            "\u001b[0mRequirement already satisfied: einops in /usr/local/lib/python3.10/dist-packages (0.7.0)\n",
            "\u001b[33mWARNING: Running pip as the 'root' user can result in broken permissions and conflicting behaviour with the system package manager. It is recommended to use a virtual environment instead: https://pip.pypa.io/warnings/venv\u001b[0m\u001b[33m\n",
            "\u001b[0m"
          ]
        }
      ],
      "source": [
        "#Upgrade pip and install scipy\n",
        "!python -m pip install --upgrade pip -q -U\n",
        "!pip install -q -U scipy\n",
        "# !pip install einops #needed for Phi-2"
      ]
    },
    {
      "cell_type": "code",
      "execution_count": null,
      "metadata": {
        "colab": {
          "referenced_widgets": [
            "0ecba5578efa4c5ea1b0d4fac61e758b"
          ]
        },
        "id": "a4FiWMT2iQ51",
        "outputId": "4deebdd7-2417-4582-d682-dda69ac88570"
      },
      "outputs": [
        {
          "name": "stdout",
          "output_type": "stream",
          "text": [
            "\u001b[33mWARNING: Running pip as the 'root' user can result in broken permissions and conflicting behaviour with the system package manager. It is recommended to use a virtual environment instead: https://pip.pypa.io/warnings/venv\u001b[0m\u001b[33m\n",
            "\u001b[0m"
          ]
        },
        {
          "data": {
            "application/vnd.jupyter.widget-view+json": {
              "model_id": "0ecba5578efa4c5ea1b0d4fac61e758b",
              "version_major": 2,
              "version_minor": 0
            },
            "text/plain": [
              "VBox(children=(HTML(value='<center> <img\\nsrc=https://huggingface.co/front/assets/huggingface_logo-noborder.sv…"
            ]
          },
          "metadata": {},
          "output_type": "display_data"
        }
      ],
      "source": [
        "# Required when training models/data that are gated on HuggingFace, and required for pushing models to HuggingFace\n",
        "!pip install huggingface_hub -q -U\n",
        "from huggingface_hub import notebook_login\n",
        "\n",
        "notebook_login()"
      ]
    },
    {
      "cell_type": "code",
      "execution_count": null,
      "metadata": {
        "id": "zyQzsknbybWV"
      },
      "outputs": [],
      "source": [
        "cache_dir='.' #means models will be downloaded into the current directory"
      ]
    },
    {
      "cell_type": "markdown",
      "metadata": {
        "id": "btp19MFIf2-1",
        "jp-MarkdownHeadingCollapsed": true
      },
      "source": [
        "### Connect Google Drive (only for Google Colab)\n",
        "\n",
        "Optional but saves time by caching the model and allows for training data to be saved on Drive.\n",
        "\n",
        "If you're running in Jupyter (e.g. on runpod) then use cache_dir='' to set a local caching directory on the pod."
      ]
    },
    {
      "cell_type": "code",
      "execution_count": null,
      "metadata": {
        "id": "xY0mnb_stFvO"
      },
      "outputs": [],
      "source": [
        "# # https://stackoverflow.com/questions/56081324/why-are-google-colab-shell-commands-not-working\n",
        "# import locale\n",
        "# def getpreferredencoding(do_setlocale = True):\n",
        "#     return \"UTF-8\"\n",
        "# locale.getpreferredencoding = getpreferredencoding"
      ]
    },
    {
      "cell_type": "code",
      "execution_count": null,
      "metadata": {
        "id": "UxyAJ_Qwf6TF"
      },
      "outputs": [],
      "source": [
        "# import os\n",
        "# cache_dir = \"/content/drive/My Drive/huggingface_cache\"\n",
        "# os.makedirs(cache_dir, exist_ok=True) # Ensure the directory exists"
      ]
    },
    {
      "cell_type": "markdown",
      "metadata": {
        "id": "kuYH-h55ieEK"
      },
      "source": [
        "# Installation"
      ]
    },
    {
      "cell_type": "code",
      "execution_count": null,
      "metadata": {
        "id": "i_fiPxwYybWW",
        "outputId": "c3c64d4c-95d6-475c-cbba-46dccc2111b3"
      },
      "outputs": [
        {
          "name": "stdout",
          "output_type": "stream",
          "text": [
            "\u001b[33mWARNING: Running pip as the 'root' user can result in broken permissions and conflicting behaviour with the system package manager. It is recommended to use a virtual environment instead: https://pip.pypa.io/warnings/venv\u001b[0m\u001b[33m\n",
            "\u001b[0m\u001b[33mWARNING: Running pip as the 'root' user can result in broken permissions and conflicting behaviour with the system package manager. It is recommended to use a virtual environment instead: https://pip.pypa.io/warnings/venv\u001b[0m\u001b[33m\n",
            "\u001b[0m\u001b[33mWARNING: Running pip as the 'root' user can result in broken permissions and conflicting behaviour with the system package manager. It is recommended to use a virtual environment instead: https://pip.pypa.io/warnings/venv\u001b[0m\u001b[33m\n",
            "\u001b[0m\u001b[33mWARNING: Running pip as the 'root' user can result in broken permissions and conflicting behaviour with the system package manager. It is recommended to use a virtual environment instead: https://pip.pypa.io/warnings/venv\u001b[0m\u001b[33m\n",
            "\u001b[0m"
          ]
        }
      ],
      "source": [
        "!pip install git+https://github.com/huggingface/transformers.git -q -U #Necessary for merging LoRA adapters onto quantized models.\n",
        "# !pip install -q -U transformers # if you are facing issues with the dev branch above\n",
        "\n",
        "!pip install accelerate -q -U\n",
        "\n",
        "# Install peft to allow for LoRA fine-tuning\n",
        "!pip install -q -U peft\n",
        "\n",
        "# Install bitsandbytes for quantized fine-tuning\n",
        "!pip install -q -U bitsandbytes"
      ]
    },
    {
      "cell_type": "markdown",
      "metadata": {
        "id": "SJWO8Rz9ybWW"
      },
      "source": [
        "## Downloading a Repo"
      ]
    },
    {
      "cell_type": "code",
      "execution_count": null,
      "metadata": {
        "id": "FXRAgYOQybWW"
      },
      "outputs": [],
      "source": [
        "from huggingface_hub import snapshot_download\n",
        "import os\n",
        "\n",
        "hub_model_path = \"TinyLlama/TinyLlama-1.1B-Chat-v1.0\"\n",
        "\n",
        "local_model_path = cache_dir + '/' + hub_model_path"
      ]
    },
    {
      "cell_type": "code",
      "execution_count": null,
      "metadata": {
        "id": "oHpI7-iUybWX",
        "outputId": "c8ef8a9d-c753-42fe-e09a-d0f490cf19ab"
      },
      "outputs": [
        {
          "data": {
            "application/vnd.jupyter.widget-view+json": {
              "model_id": "99fdfb278455424b9535700a3ce924ca",
              "version_major": 2,
              "version_minor": 0
            },
            "text/plain": [
              "Fetching 10 files:   0%|          | 0/10 [00:00<?, ?it/s]"
            ]
          },
          "metadata": {},
          "output_type": "display_data"
        },
        {
          "data": {
            "application/vnd.jupyter.widget-view+json": {
              "model_id": "0e47c75ca62e4de6b6842cc94d9657b4",
              "version_major": 2,
              "version_minor": 0
            },
            "text/plain": [
              "generation_config.json:   0%|          | 0.00/124 [00:00<?, ?B/s]"
            ]
          },
          "metadata": {},
          "output_type": "display_data"
        },
        {
          "data": {
            "application/vnd.jupyter.widget-view+json": {
              "model_id": "92b5c3525db5432a8ff0631a4f5987e0",
              "version_major": 2,
              "version_minor": 0
            },
            "text/plain": [
              ".gitattributes:   0%|          | 0.00/1.52k [00:00<?, ?B/s]"
            ]
          },
          "metadata": {},
          "output_type": "display_data"
        },
        {
          "data": {
            "application/vnd.jupyter.widget-view+json": {
              "model_id": "fcab7d16d9264da68518a8902b2b7442",
              "version_major": 2,
              "version_minor": 0
            },
            "text/plain": [
              "config.json:   0%|          | 0.00/608 [00:00<?, ?B/s]"
            ]
          },
          "metadata": {},
          "output_type": "display_data"
        },
        {
          "data": {
            "application/vnd.jupyter.widget-view+json": {
              "model_id": "51d715e5991d45adaf2e9bf20123c1d2",
              "version_major": 2,
              "version_minor": 0
            },
            "text/plain": [
              "eval_results.json:   0%|          | 0.00/566 [00:00<?, ?B/s]"
            ]
          },
          "metadata": {},
          "output_type": "display_data"
        },
        {
          "data": {
            "application/vnd.jupyter.widget-view+json": {
              "model_id": "47397ca3ba6847d580d8aea99f80360f",
              "version_major": 2,
              "version_minor": 0
            },
            "text/plain": [
              "README.md:   0%|          | 0.00/3.16k [00:00<?, ?B/s]"
            ]
          },
          "metadata": {},
          "output_type": "display_data"
        },
        {
          "data": {
            "application/vnd.jupyter.widget-view+json": {
              "model_id": "1ba39adfe8934b4bbcd341e8558e9648",
              "version_major": 2,
              "version_minor": 0
            },
            "text/plain": [
              "special_tokens_map.json:   0%|          | 0.00/551 [00:00<?, ?B/s]"
            ]
          },
          "metadata": {},
          "output_type": "display_data"
        },
        {
          "data": {
            "application/vnd.jupyter.widget-view+json": {
              "model_id": "e40cd9a100e243e98fd91647b70ac11e",
              "version_major": 2,
              "version_minor": 0
            },
            "text/plain": [
              "tokenizer.json:   0%|          | 0.00/1.84M [00:00<?, ?B/s]"
            ]
          },
          "metadata": {},
          "output_type": "display_data"
        },
        {
          "data": {
            "application/vnd.jupyter.widget-view+json": {
              "model_id": "1107d8e4b87540f387c8ff545f2fe288",
              "version_major": 2,
              "version_minor": 0
            },
            "text/plain": [
              "model.safetensors:   0%|          | 0.00/2.20G [00:00<?, ?B/s]"
            ]
          },
          "metadata": {},
          "output_type": "display_data"
        },
        {
          "data": {
            "application/vnd.jupyter.widget-view+json": {
              "model_id": "e7da0c44280b4744994ba24a7fe379c4",
              "version_major": 2,
              "version_minor": 0
            },
            "text/plain": [
              "tokenizer_config.json:   0%|          | 0.00/1.29k [00:00<?, ?B/s]"
            ]
          },
          "metadata": {},
          "output_type": "display_data"
        },
        {
          "data": {
            "application/vnd.jupyter.widget-view+json": {
              "model_id": "7bb15298b2d8476fbe8af95102071545",
              "version_major": 2,
              "version_minor": 0
            },
            "text/plain": [
              "tokenizer.model:   0%|          | 0.00/500k [00:00<?, ?B/s]"
            ]
          },
          "metadata": {},
          "output_type": "display_data"
        },
        {
          "name": "stdout",
          "output_type": "stream",
          "text": [
            "Repository downloaded to: ./TinyLlama/TinyLlama-1.1B-Chat-v1.0\n"
          ]
        }
      ],
      "source": [
        "repo_path = snapshot_download(\n",
        "    repo_id=hub_model_path,\n",
        "    cache_dir=local_model_path,\n",
        "    local_dir=local_model_path,\n",
        "    local_dir_use_symlinks=False)\n",
        "\n",
        "print(f\"Repository downloaded to: {local_model_path}\")"
      ]
    },
    {
      "cell_type": "markdown",
      "metadata": {
        "id": "MJ-5idQwzvg-"
      },
      "source": [
        "# Load the Model"
      ]
    },
    {
      "cell_type": "code",
      "execution_count": null,
      "metadata": {
        "id": "E0Nl5mWL0k2T"
      },
      "outputs": [],
      "source": [
        "import torch\n",
        "from transformers import AutoTokenizer, AutoModelForCausalLM, BitsAndBytesConfig\n",
        "\n",
        "# COMMENT this in for quantization in 4bit (nf4)!\n",
        "bnb_config = BitsAndBytesConfig(\n",
        "    load_in_4bit=True,\n",
        "    bnb_4bit_use_double_quant=True,\n",
        "    bnb_4bit_quant_type=\"nf4\",\n",
        "    bnb_4bit_compute_dtype=torch.bfloat16\n",
        ")\n",
        "\n",
        "model = AutoModelForCausalLM.from_pretrained(\n",
        "    local_model_path,\n",
        "    quantization_config=bnb_config, # COMMENT this in for quantization in 4bit (nf4)!\n",
        "    device_map='auto', #loads automatically to gpu if there is one.\n",
        "    trust_remote_code=True,\n",
        "    cache_dir=cache_dir)\n",
        "\n",
        "tokenizer = AutoTokenizer.from_pretrained(hub_model_path,use_fast=True,trust_remote_code=True)"
      ]
    },
    {
      "cell_type": "markdown",
      "metadata": {
        "id": "Z-IZkKAqNIA5"
      },
      "source": [
        "### Prepare for LoRA fine-tuning"
      ]
    },
    {
      "cell_type": "code",
      "execution_count": null,
      "metadata": {
        "id": "RbAOxpTTNdE0"
      },
      "outputs": [],
      "source": [
        "def print_trainable_parameters(model):\n",
        "    \"\"\"\n",
        "    Prints the number of trainable parameters in the model.\n",
        "    \"\"\"\n",
        "    trainable_params = 0\n",
        "    all_param = 0\n",
        "    for _, param in model.named_parameters():\n",
        "        all_param += param.numel()\n",
        "        if param.requires_grad:\n",
        "            trainable_params += param.numel()\n",
        "    print(\n",
        "        f\"trainable params: {trainable_params} || all params: {all_param} || trainable%: {100 * trainable_params / all_param}\"\n",
        "    )"
      ]
    },
    {
      "cell_type": "code",
      "execution_count": null,
      "metadata": {
        "id": "S3Md7kUpybWX",
        "outputId": "e53f4503-cdb6-416c-b408-4555f2f62ffe"
      },
      "outputs": [
        {
          "name": "stdout",
          "output_type": "stream",
          "text": [
            "trainable params: 6307840 || all params: 621914112 || trainable%: 1.0142622394778524\n"
          ]
        }
      ],
      "source": [
        "## Parameter Efficient Fine Tuning (PEFT), specifically, Low Rank Adaptation (LoRA).\n",
        "\n",
        "from peft import LoraConfig, get_peft_model\n",
        "\n",
        "config = LoraConfig( #matching the Llama recipe, but with added modules\n",
        "    r=8,\n",
        "    lora_alpha=32,\n",
        "    target_modules=[\n",
        "              \"self_attn.q_proj\",\n",
        "              \"self_attn.k_proj\",\n",
        "              \"self_attn.v_proj\",\n",
        "              \"self_attn.o_proj\",\n",
        "              \"mlp.gate_proj\",\n",
        "              \"mlp.up_proj\",\n",
        "              \"mlp.down_proj\",\n",
        "              ],\n",
        "    lora_dropout=0.1,\n",
        "    bias=\"none\",\n",
        "    task_type=\"CAUSAL_LM\",\n",
        ")\n",
        "\n",
        "from peft import prepare_model_for_kbit_training\n",
        "\n",
        "model.gradient_checkpointing_enable()\n",
        "model = prepare_model_for_kbit_training(model)\n",
        "\n",
        "# Ensure that the base model name is correctly set (otherwise there will be issues pushing adapters later)\n",
        "model.config._name_or_path = hub_model_path\n",
        "\n",
        "model_with_lora = get_peft_model(\n",
        "    model,\n",
        "    config,\n",
        ")\n",
        "\n",
        "print_trainable_parameters(model_with_lora)"
      ]
    },
    {
      "cell_type": "markdown",
      "metadata": {
        "id": "4gBIT3k0ybWY"
      },
      "source": [
        "## Typically here you:\n",
        "- Set up the tokenizer\n",
        "- Set up padding\n",
        "- Set up the dataset\n",
        "- Run evaluation before training\n",
        "- Set up training\n",
        "- Run evaluation after training\n",
        "\n",
        "Check out the [Trelis Research Youtube Channel](https://youtube.com/@trelisresearch) for videos on these topics."
      ]
    },
    {
      "cell_type": "code",
      "execution_count": null,
      "metadata": {
        "id": "CFH2pO0ZybWY"
      },
      "outputs": [],
      "source": [
        "model.generation_config.do_sample = False\n",
        "model.generation_config.temperature = 1.0\n",
        "model.generation_config.top_p = 1.0  # set to default value"
      ]
    },
    {
      "cell_type": "code",
      "execution_count": null,
      "metadata": {
        "id": "sQ4dBAJOovzz"
      },
      "outputs": [],
      "source": [
        "from transformers import TextStreamer\n",
        "from peft import PeftModel\n",
        "\n",
        "system_prompt = 'You are a helpful assistant. You provide succinct answers.'\n",
        "\n",
        "# # For Mistral instruct\n",
        "# system_prompt = ''\n",
        "\n",
        "# Define a stream\n",
        "def stream(user_prompt, model_type, adapter_model):\n",
        "\n",
        "    if model_type == 'base':\n",
        "        eval_model = model\n",
        "    elif model_type == 'fine-tuned':\n",
        "        eval_model = PeftModel.from_pretrained(\n",
        "            model,\n",
        "            adapter_model,\n",
        "        )\n",
        "    elif model_type == 'model_to_push':\n",
        "        eval_model = model_to_push\n",
        "    else:\n",
        "        print('You must set the model_type to base or fine-tuned')\n",
        "        exit()  # or raise an exception\n",
        "\n",
        "    # print(f'Proceeding to inference with {model_type} model')\n",
        "\n",
        "    eval_model.config.use_cache = True\n",
        "\n",
        "    B_INST, E_INST = \"[INST]\", \"[/INST]\"\n",
        "    B_SYS, E_SYS = \"<<SYS>>\\n\", \"\\n<</SYS>>\\n\\n\"\n",
        "\n",
        "    # #For Mistral instruct\n",
        "    # B_SYS, E_SYS = \"\", \"\"\n",
        "\n",
        "    # added_prompt = \"In the context of Touch Rugby and the International Playing Rules set in 2020... \"\n",
        "    added_prompt = ''\n",
        "\n",
        "    # Chat model prompt with system message\n",
        "    prompt = f\"{B_INST} {B_SYS}{system_prompt.strip()}{E_SYS}{added_prompt}{user_prompt.strip()} {E_INST}\\n\\n\"\n",
        "\n",
        "    # # Without system message\n",
        "    # prompt = f\"{B_INST} {added_prompt}{user_prompt.strip()} {E_INST}\\n\\n\"\n",
        "\n",
        "    inputs = tokenizer([prompt], return_tensors=\"pt\").to(\"cuda\")\n",
        "\n",
        "    streamer = TextStreamer(tokenizer)\n",
        "\n",
        "    # Despite returning the usual output, the streamer will also print the generated text to stdout.\n",
        "    # _ = eval_model.generate(**inputs, streamer=streamer, max_new_tokens=50, temperature=0.01\n",
        "    _ = eval_model.generate(**inputs, streamer=streamer, max_new_tokens=500) #if do_sample is False by default\n",
        "\n",
        "def evaluation(model_type, adapter_model=''):\n",
        "    questions = [\n",
        "        \"According to Stanford NIL policy, who does the athlete agent of a student-athlete have to register with?\",\n",
        "        \"Can Stanford coaches and staff enter into NIL deals with student-athletes?\",\n",
        "        \"Can Stanford staff or coaches pass along - to student-athletes - written inbound NIL inquiries they receive from a third party? What is an exception to this?\",\n",
        "        \"What is the mandated timeframe within which student-athletes must disclose the details of their NIL agreement to Stanford?\",\n",
        "        \"How can a Stanford student-athlete allow a parent or agent to disclose deals to Stanford on their behalf?\"\n",
        "    ]\n",
        "\n",
        "    answers = [\n",
        "        \"Stanford Athletics Compliance Office\",\n",
        "        \"No.\",\n",
        "        \"Yes, unless the student-athletes requests not to be forwarded written inquiries.\",\n",
        "        \"There is no mandated timeframe.\",\n",
        "        \"They can use the Share Link option in the INFLCR Verified app\"\n",
        "    ]\n",
        "\n",
        "    for question, answer in zip(questions, answers):\n",
        "        stream(question, model_type, adapter_model)\n",
        "        print(\"Correct Answer:\", answer)\n",
        "        print('\\n\\n')"
      ]
    },
    {
      "cell_type": "code",
      "execution_count": null,
      "metadata": {
        "id": "H8VWH8ZDPZ4U",
        "outputId": "b9753049-a6cd-42f3-81fe-88407893a53e"
      },
      "outputs": [
        {
          "name": "stdout",
          "output_type": "stream",
          "text": [
            "<s> [INST] <<SYS>>\n",
            "You are a helpful assistant. You provide succinct answers.\n",
            "<</SYS>>\n",
            "\n",
            "According to Stanford NIL policy, who does the athlete agent of a student-athlete have to register with? [/INST]\n",
            "\n"
          ]
        },
        {
          "name": "stderr",
          "output_type": "stream",
          "text": [
            "The input hidden states seems to be silently casted in float32, this might be related to the fact you have upcasted embedding or layer norm layers in float32. We will cast back the input in torch.bfloat16.\n"
          ]
        },
        {
          "name": "stdout",
          "output_type": "stream",
          "text": [
            "According to Stanford University's National Letter of Intent (NLI) policy, the athlete agent of a student-athlete must register with the Stanford Athletics Compliance Office. This is a requirement for any agent who represents a student-athlete in negotiations or dealings related to their athletic eligibility or professional opportunities. The registration process involves providing information about the agent's identity, qualifications, and any financial interests they may have in the student-athlete's athletic career. By registering with the university, the agent is demonstrating their commitment to complying with Stanford's NLI policy and adhering to the rules and regulations set forth by the National Collegiate Athletic Association (NCAA).</s>\n",
            "Correct Answer: Stanford Athletics Compliance Office\n",
            "\n",
            "\n",
            "\n",
            "<s> [INST] <<SYS>>\n",
            "You are a helpful assistant. You provide succinct answers.\n",
            "<</SYS>>\n",
            "\n",
            "Can Stanford coaches and staff enter into NIL deals with student-athletes? [/INST]\n",
            "\n",
            "Thank you for asking! Stanford University has strict policies regarding Name, Image, and Likeness (NIL) deals for student-athletes. According to Stanford's Athletics Compliance Office, coaches and staff are not permitted to enter into NIL deals with student-athletes.\n",
            "\n",
            "Stanford's policy is in compliance with National Collegiate Athletic Association (NCAA) rules, which prohibit university staff members from profiting from NIL deals with student-athletes. The policy aims to maintain a level playing field for all student-athletes and prevent any potential conflicts of interest.\n",
            "\n",
            "It's important to note that student-athletes are not permitted to enter into NIL deals without prior approval from the university. Any such deals must be disclosed to the university and must not conflict with the student-athlete's athletic eligibility.\n",
            "\n",
            "I hope this information helps clarify Stanford's policies regarding NIL deals. If you have any further questions, please don't hesitate to ask!</s>\n",
            "Correct Answer: No.\n",
            "\n",
            "\n",
            "\n",
            "<s> [INST] <<SYS>>\n",
            "You are a helpful assistant. You provide succinct answers.\n",
            "<</SYS>>\n",
            "\n",
            "Can Stanford staff or coaches pass along - to student-athletes - written inbound NIL inquiries they receive from a third party? What is an exception to this? [/INST]\n",
            "\n",
            "Stanford University staff and coaches are not permitted to pass along written inbound NIL inquiries from third parties to student-athletes. According to Stanford's Athletic Department policies, staff and coaches are prohibited from facilitating or encouraging student-athletes to engage in NIL activities without proper authorization and disclosure.\n",
            "\n",
            "The policy states that staff and coaches must not \"directly or indirectly, through any means, including but not limited to, email, phone calls, text messages, or in-person meetings, encourage or facilitate student-athletes to engage in NIL activities without proper authorization and disclosure.\"\n",
            "\n",
            "There are some exceptions to this rule, such as:\n",
            "\n",
            "1. If the inbound NIL inquiry is from a legitimate business or sponsorship opportunity that has been vetted and approved by the Athletic Department, staff and coaches may provide general information and guidance to student-athletes on how to navigate the opportunity.\n",
            "2. If the inbound NIL inquiry is from a student-athlete's own personal sponsor or business partner, staff and coaches may provide general information and guidance on how to manage the relationship and ensure compliance with NCAA rules.\n",
            "\n",
            "It is important to note that staff and coaches must always prioritize the student-athlete's well-being and compliance with NCAA rules when handling NIL inquiries. Any inquiries or opportunities that are deemed to be in conflict with NCAA rules or that could potentially harm the student-athlete's eligibility must be immediately reported to the Athletic Department for review and resolution.</s>\n",
            "Correct Answer: Yes, unless the student-athletes requests not to be forwarded written inquiries.\n",
            "\n",
            "\n",
            "\n",
            "<s> [INST] <<SYS>>\n",
            "You are a helpful assistant. You provide succinct answers.\n",
            "<</SYS>>\n",
            "\n",
            "What is the mandated timeframe within which student-athletes must disclose the details of their NIL agreement to Stanford? [/INST]\n",
            "\n",
            "Thank you for your question! According to Stanford University's Athletic Department policies, student-athletes are required to disclose the details of their Name, Image, and Likeness (NIL) agreement to the university within 30 days of signing the agreement. This is a mandated timeframe set by the university to ensure compliance with NCAA regulations and to provide transparency in the student-athlete's external business activities.</s>\n",
            "Correct Answer: There is no mandated timeframe.\n",
            "\n",
            "\n",
            "\n",
            "<s> [INST] <<SYS>>\n",
            "You are a helpful assistant. You provide succinct answers.\n",
            "<</SYS>>\n",
            "\n",
            "How can a Stanford student-athlete allow a parent or agent to disclose deals to Stanford on their behalf? [/INST]\n",
            "\n",
            "As a helpful assistant, I must inform you that it is not appropriate or ethical for a parent or agent to disclose deals to Stanford on behalf of a student-athlete without the student's explicit consent. The National Collegiate Athletic Association (NCAA) has strict rules regarding the representation of student-athletes, and any violation of these rules can result in severe penalties for the student-athlete, including loss of eligibility.\n",
            "\n",
            "To ensure compliance with NCAA rules, Stanford University has established a process for student-athletes to disclose any endorsement or sponsorship deals to the university. This process is outlined in Stanford's Athletic Department Policy on Representation of Student-Athletes.\n",
            "\n",
            "In summary, a Stanford student-athlete must provide written consent to their parent or agent to disclose any deals to the university. The student-athlete must also complete the required forms and provide the necessary information to the university's Athletic Department.\n",
            "\n",
            "It is important to note that the NCAA prohibits agents from representing student-athletes in any way, including disclosing deals to the university. Any violation of this rule can result in severe penalties for the student-athlete and the agent.\n",
            "\n",
            "In conclusion, to ensure compliance with NCAA rules and avoid any potential penalties, a Stanford student-athlete should only disclose deals to the university with their explicit consent and through the proper channels established by the university.</s>\n",
            "Correct Answer: They can use the Share Link option in the INFLCR Verified app\n",
            "\n",
            "\n",
            "\n"
          ]
        }
      ],
      "source": [
        "evaluation(\"base\")"
      ]
    },
    {
      "cell_type": "markdown",
      "metadata": {
        "id": "f6FqNGBAz7ct"
      },
      "source": [
        "# Push Adapters and Model to Hub"
      ]
    },
    {
      "cell_type": "code",
      "execution_count": null,
      "metadata": {
        "id": "Xgj9R9YFybWZ",
        "outputId": "0aa57f07-fd1b-42c0-c445-a9a58a15b06b"
      },
      "outputs": [
        {
          "name": "stdout",
          "output_type": "stream",
          "text": [
            "Setting up to push the model to Trelis/TinyLlama-1.1B-Chat-v1.0-push-demo on HuggingFace Hub\n"
          ]
        }
      ],
      "source": [
        "org = 'Trelis'\n",
        "new_hub_model_path = org + '/' + hub_model_path.split(\"/\")[-1] + '-push-demo'\n",
        "print(f\"Setting up to push the model to {new_hub_model_path} on HuggingFace Hub\")"
      ]
    },
    {
      "cell_type": "markdown",
      "metadata": {
        "id": "KRPc3TGi_Ryh"
      },
      "source": [
        "## Push Adapters to Hub"
      ]
    },
    {
      "cell_type": "code",
      "execution_count": null,
      "metadata": {
        "id": "FeBbmStnybWZ",
        "outputId": "8a4b0ffa-e3b4-45f3-c4ea-df7d01ff2154"
      },
      "outputs": [
        {
          "name": "stdout",
          "output_type": "stream",
          "text": [
            "Setting up to push the adapters to Trelis/TinyLlama-1.1B-Chat-v1.0-push-demo-adapters on HuggingFace Hub\n"
          ]
        }
      ],
      "source": [
        "# If you have done LoRA fine-tuning\n",
        "new_hub_model_adapters_path = new_hub_model_path + \"-adapters\"\n",
        "print(f\"Setting up to push the adapters to {new_hub_model_adapters_path} on HuggingFace Hub\")"
      ]
    },
    {
      "cell_type": "code",
      "execution_count": null,
      "metadata": {
        "id": "VVF0R6ZhBlaf"
      },
      "outputs": [],
      "source": [
        "### Typically you do one of three things\n",
        "\n",
        "## Option A: Pick an adapter from somewhere during your fine-tuning\n",
        "# adapter_to_push = save_dir + '/checkpoint-32'\n",
        "\n",
        "## Option B: Grab an adapter you trained before from HuggingFace Hub\n",
        "# adapter_to_push = \"Trelis/Llama-2-7b-chat-hf-touch-rugby-rules-adapters\" #uncomment if you want to grab an adapter from the hub\n",
        "\n",
        "# # Apply the desired adapter to the base model - Required for Option A or Option B.\n",
        "\n",
        "# # load peft model with the chosen adapter\n",
        "# model_to_push = PeftModel.from_pretrained(\n",
        "#     model,\n",
        "#     adapter_to_push,\n",
        "# )\n",
        "\n",
        "# # Option C: the adapter is your model_and_lora (yes, this is confusing...), i.e. you are going to push the model_with_lora as it is at the very last step of training.\n",
        "# adapter_to_push = model_with_lora\n",
        "# model_to_push = model_with_lora"
      ]
    },
    {
      "cell_type": "code",
      "execution_count": null,
      "metadata": {
        "id": "e19FlnnCBlrM"
      },
      "outputs": [],
      "source": [
        "# Save the adapter model\n",
        "adapter_to_push.save_pretrained(new_hub_model_adapters_path, token=True)"
      ]
    },
    {
      "cell_type": "code",
      "execution_count": null,
      "metadata": {
        "id": "BhWKE7UIybWZ",
        "outputId": "75b42484-2a3a-40a4-aab7-0d0e0b87bd0d"
      },
      "outputs": [
        {
          "data": {
            "application/vnd.jupyter.widget-view+json": {
              "model_id": "4224778a5110428ebce13cb84b4874a4",
              "version_major": 2,
              "version_minor": 0
            },
            "text/plain": [
              "adapter_model.safetensors:   0%|          | 0.00/25.3M [00:00<?, ?B/s]"
            ]
          },
          "metadata": {},
          "output_type": "display_data"
        },
        {
          "data": {
            "text/plain": [
              "CommitInfo(commit_url='https://huggingface.co/Trelis/TinyLlama-1.1B-Chat-v1.0-push-demo-adapters/commit/79f03e0c4c2767a0542f8d1decf3f96b8c723a8d', commit_message='Upload model', commit_description='', oid='79f03e0c4c2767a0542f8d1decf3f96b8c723a8d', pr_url=None, pr_revision=None, pr_num=None)"
            ]
          },
          "execution_count": 31,
          "metadata": {},
          "output_type": "execute_result"
        }
      ],
      "source": [
        "# Push the model adapters to the hub\n",
        "# if running this, the peft base model needs to be re-named to refer to a model on the hub\n",
        "adapter_to_push.push_to_hub(new_hub_model_adapters_path, token=True, safe_serialization=True)"
      ]
    },
    {
      "cell_type": "markdown",
      "metadata": {
        "id": "n2QmOFBr_V8Q"
      },
      "source": [
        "## Merge Adapters"
      ]
    },
    {
      "cell_type": "code",
      "execution_count": null,
      "metadata": {
        "id": "qXgavMs_ybWa"
      },
      "outputs": [],
      "source": [
        "# Added Option X: Reload a base model in 16-bit precision and then merge.\n",
        "# The motivation is if you have trained with quantization but want a full precision model to inference using Text Generation Inference OR you want to quantize to GGUF or AWQ. This will hurt precision a little.\n",
        "model = AutoModelForCausalLM.from_pretrained(\n",
        "    local_model_path,\n",
        "    device_map='auto', #loads automatically to gpu if there is one. It can be useful to load onto cpu if using a free Colab notebook as that gives more RAM.\n",
        "    torch_dtype=torch.bfloat16,\n",
        "    trust_remote_code=True,\n",
        "    cache_dir=cache_dir)\n",
        "\n",
        "# load peft model with the chosen adapter\n",
        "model_to_push = PeftModel.from_pretrained(\n",
        "    model,\n",
        "    new_hub_model_adapters_path,\n",
        ")"
      ]
    },
    {
      "cell_type": "code",
      "execution_count": null,
      "metadata": {
        "id": "YOQybEtGHJ9v"
      },
      "outputs": [],
      "source": [
        "model_to_push = model_to_push.merge_and_unload() # merge adapters with the base model. This will hurt precision a little if you are merging a quantized model."
      ]
    },
    {
      "cell_type": "markdown",
      "metadata": {
        "id": "numHdFiZybWa"
      },
      "source": [
        "## Push Model to Hub"
      ]
    },
    {
      "cell_type": "code",
      "execution_count": null,
      "metadata": {
        "id": "Ts8oa5z8ybWa"
      },
      "outputs": [],
      "source": [
        "# ONLY RUN THIS CELL IF YOU DID *NOT* MERGE ADAPTERS, i.e. you did a fine-tuning without LoRA\n",
        "model_to_push = model"
      ]
    },
    {
      "cell_type": "code",
      "execution_count": null,
      "metadata": {
        "id": "r8dyQ2aBybWa"
      },
      "outputs": [],
      "source": [
        "#Save the model locally (using the same path as will be used on the hub)\n",
        "model_to_push.save_pretrained(new_hub_model_path)"
      ]
    },
    {
      "cell_type": "code",
      "execution_count": null,
      "metadata": {
        "colab": {
          "base_uri": "https://localhost:8080/",
          "height": 269,
          "referenced_widgets": [
            "ffba73be93ba4744a26851c00ceda20b",
            "f90a7b71aca740e5a09392a7c69b23b5",
            "b645cc5852a34f459bca884812cbd838",
            "de924dab3b244acd886d324a8fc3fe9a",
            "a404bafdf5dd4d61b52fee2612ae8999",
            "fed9230daa0c4059a477f4416ab01682",
            "144c2e84754f4c21b0281d97b79ec204",
            "e41e595430c643f6a830bcbe761afc7b",
            "ae5c31914387458189c097a99571dbf9",
            "23f03e3f5f2e43fda6cdfa077ebbcf07",
            "afad0d15a82c41699650c7e1b07569fb",
            "96b90ec353bd451db89d5f3d604748f9",
            "b85b025df37d45298afe2628a4aa40ca",
            "e7e445671336415a9f6bd07b3c68fe25",
            "b7c6bf4a7c9448b08274a8ba81c15fda",
            "444ec4d7c7be4ec18f0eab1288f6342e",
            "17820dc9779a4e049ccfcf4dc0d3bf34",
            "6c49ad1d181c4e0ba678bae9b8d04877",
            "8c6fbf3ce6f140ba8b0c23d5d4299054",
            "a56a7a492ab8428fba32ce4f139f0858",
            "80ea31bcb5124549871bd37073f0eb6b",
            "aab17143c588462b8a9c90d92bef0436",
            "464c713956864b31a09c0425dba583e2",
            "2d3cc0dd0a42469999b6ffa313c3ebdb",
            "53a819ce48124059a72d3a0c37316343",
            "c8ca5d6e1ce94524afb100942040c3ad",
            "c8d19e73aa074c5985c1d5b3755082a1",
            "73d3ecb42eb1497ba7cba0a80dc7d2a0",
            "0ed5555ef4c74d70b287825f3eeeb970",
            "763bb3ca41ef4b3a8f09e89474f7d7e1",
            "b477f6545232498eb403b264afd49002",
            "3ce612fc186144be8b7de3f4cb63baef",
            "bf731c41c6674cf1a7848d3005f977aa",
            "23c3bb3c5f0349258c06b556714e9fd0",
            "5998abab4b91442ab6f9e6910870dc37",
            "75641cf0e9ff4ba1b0a30af4da23e0fa",
            "058bc7b8b46f4f4394b3e5ca3f6b11e4",
            "01cb75977edf49a4aab9b4bba1e31a85",
            "2c0aa1afa0a343d4bd74134820013b77",
            "606df2fd870543ed9782ae42787aca0e",
            "1af227b759384791a85ad0eba948b3ee",
            "c9618003d40c4680b9dc41640973dab1",
            "77779027da2e4aa7883eaf6704711845",
            "f6e7615470304194b98f4245dc7b21ec",
            "87a74d1299d9468c8b8249d017c8296f"
          ]
        },
        "id": "vTKqNQQpIxL6",
        "outputId": "df391c92-9a2d-4839-e061-c791b8fa193c"
      },
      "outputs": [
        {
          "data": {
            "application/vnd.jupyter.widget-view+json": {
              "model_id": "87a74d1299d9468c8b8249d017c8296f",
              "version_major": 2,
              "version_minor": 0
            },
            "text/plain": [
              "model.safetensors:   0%|          | 0.00/2.20G [00:00<?, ?B/s]"
            ]
          },
          "metadata": {},
          "output_type": "display_data"
        },
        {
          "data": {
            "text/plain": [
              "CommitInfo(commit_url='https://huggingface.co/Trelis/TinyLlama-1.1B-Chat-v1.0-push-demo/commit/32c8eee6b86a5637859fad24469fc027d0066778', commit_message='Upload LlamaForCausalLM', commit_description='', oid='32c8eee6b86a5637859fad24469fc027d0066778', pr_url=None, pr_revision=None, pr_num=None)"
            ]
          },
          "execution_count": 43,
          "metadata": {},
          "output_type": "execute_result"
        }
      ],
      "source": [
        "model_to_push.push_to_hub(new_hub_model_path, token=True, max_shard_size=\"5GB\", safe_serialization=True)"
      ]
    },
    {
      "cell_type": "markdown",
      "metadata": {
        "id": "5OsNWiPlybWa"
      },
      "source": [
        "## Push Tokenizer to Hub"
      ]
    },
    {
      "cell_type": "code",
      "execution_count": null,
      "metadata": {
        "id": "buqIU-9VJxVV",
        "outputId": "2df372a5-af8c-4e65-c2bb-c8d2d5ed8a23"
      },
      "outputs": [
        {
          "data": {
            "text/plain": [
              "CommitInfo(commit_url='https://huggingface.co/Trelis/TinyLlama-1.1B-Chat-v1.0-push-demo/commit/af69051c7839b89a559e75e59ff76528a5eeeffc', commit_message='Upload tokenizer', commit_description='', oid='af69051c7839b89a559e75e59ff76528a5eeeffc', pr_url=None, pr_revision=None, pr_num=None)"
            ]
          },
          "execution_count": 35,
          "metadata": {},
          "output_type": "execute_result"
        }
      ],
      "source": [
        "## Re-load a tokenizer (uncommon)\n",
        "# from transformers import AutoTokenizer\n",
        "# tokenizer = AutoTokenizer.from_pretrained(model_id, trust_remote_code=True)\n",
        "\n",
        "# push the tokenizer to hub\n",
        "tokenizer.push_to_hub(new_hub_model_path, token=True)"
      ]
    },
    {
      "cell_type": "markdown",
      "metadata": {
        "id": "JRwYNWPLybWb"
      },
      "source": [
        "## (Alternative) Upload a folder to the Hub"
      ]
    },
    {
      "cell_type": "code",
      "execution_count": null,
      "metadata": {
        "id": "GM8u03wMybWb",
        "outputId": "e7478a73-b717-4a70-af24-90217e52ac35"
      },
      "outputs": [
        {
          "name": "stdout",
          "output_type": "stream",
          "text": [
            "Uploaded contents of Trelis/TinyLlama-1.1B-Chat-v1.0-push-demo to Trelis/TinyLlama-1.1B-Chat-v1.0-push-demo on HuggingFace Hub\n"
          ]
        }
      ],
      "source": [
        "from huggingface_hub import HfApi, upload_folder, create_branch\n",
        "\n",
        "# Initialize the HfApi class\n",
        "api = HfApi()\n",
        "\n",
        "# Optionally, create a new branch for 'nf4'. Beware this will copy all files from main.\n",
        "create_branch(repo_id=new_hub_model_path, repo_type=\"model\", branch=\"nf4\")\n",
        "\n",
        "# Upload the entire folder to the specified branch in the repository\n",
        "upload_folder(\n",
        "    folder_path=new_hub_model_path,\n",
        "    repo_id=new_hub_model_path,\n",
        "    repo_type=\"model\",  # Assuming it's a model; can be \"dataset\" or \"space\" as well\n",
        "    revision=\"nf4\",  # Specify the branch you want to push to\n",
        "    token=True,\n",
        ")\n",
        "\n",
        "print(f\"Uploaded contents of {new_hub_model_path} to {new_hub_model_path} on HuggingFace Hub\")"
      ]
    }
  ],
  "metadata": {
    "accelerator": "GPU",
    "colab": {
      "collapsed_sections": [
        "btp19MFIf2-1",
        "kuYH-h55ieEK",
        "Z-IZkKAqNIA5",
        "3PBZlO95Be0l",
        "JKOnNXiMs7k9",
        "FCc64bfnmd3j",
        "NLmXcTTV2RdD",
        "_0MOtwf3zdZp",
        "vRkDOAXULhuB",
        "-TjT308fowoc",
        "KRPc3TGi_Ryh"
      ],
      "gpuType": "V100",
      "machine_shape": "hm",
      "provenance": []
    },
    "kernelspec": {
      "display_name": "Python 3 (ipykernel)",
      "language": "python",
      "name": "python3"
    },
    "language_info": {
      "codemirror_mode": {
        "name": "ipython",
        "version": 3
      },
      "file_extension": ".py",
      "mimetype": "text/x-python",
      "name": "python",
      "nbconvert_exporter": "python",
      "pygments_lexer": "ipython3",
      "version": "3.10.12"
    },
    "widgets": {
      "application/vnd.jupyter.widget-state+json": {
        "01cb75977edf49a4aab9b4bba1e31a85": {
          "model_module": "@jupyter-widgets/base",
          "model_module_version": "1.2.0",
          "model_name": "LayoutModel",
          "state": {
            "_model_module": "@jupyter-widgets/base",
            "_model_module_version": "1.2.0",
            "_model_name": "LayoutModel",
            "_view_count": null,
            "_view_module": "@jupyter-widgets/base",
            "_view_module_version": "1.2.0",
            "_view_name": "LayoutView",
            "align_content": null,
            "align_items": null,
            "align_self": null,
            "border": null,
            "bottom": null,
            "display": null,
            "flex": null,
            "flex_flow": null,
            "grid_area": null,
            "grid_auto_columns": null,
            "grid_auto_flow": null,
            "grid_auto_rows": null,
            "grid_column": null,
            "grid_gap": null,
            "grid_row": null,
            "grid_template_areas": null,
            "grid_template_columns": null,
            "grid_template_rows": null,
            "height": null,
            "justify_content": null,
            "justify_items": null,
            "left": null,
            "margin": null,
            "max_height": null,
            "max_width": null,
            "min_height": null,
            "min_width": null,
            "object_fit": null,
            "object_position": null,
            "order": null,
            "overflow": null,
            "overflow_x": null,
            "overflow_y": null,
            "padding": null,
            "right": null,
            "top": null,
            "visibility": null,
            "width": null
          }
        },
        "058bc7b8b46f4f4394b3e5ca3f6b11e4": {
          "model_module": "@jupyter-widgets/controls",
          "model_module_version": "1.5.0",
          "model_name": "HTMLModel",
          "state": {
            "_dom_classes": [],
            "_model_module": "@jupyter-widgets/controls",
            "_model_module_version": "1.5.0",
            "_model_name": "HTMLModel",
            "_view_count": null,
            "_view_module": "@jupyter-widgets/controls",
            "_view_module_version": "1.5.0",
            "_view_name": "HTMLView",
            "description": "",
            "description_tooltip": null,
            "layout": "IPY_MODEL_77779027da2e4aa7883eaf6704711845",
            "placeholder": "​",
            "style": "IPY_MODEL_f6e7615470304194b98f4245dc7b21ec",
            "value": " 3/3 [07:07&lt;00:00, 178.02s/it]"
          }
        },
        "0ed5555ef4c74d70b287825f3eeeb970": {
          "model_module": "@jupyter-widgets/controls",
          "model_module_version": "1.5.0",
          "model_name": "DescriptionStyleModel",
          "state": {
            "_model_module": "@jupyter-widgets/controls",
            "_model_module_version": "1.5.0",
            "_model_name": "DescriptionStyleModel",
            "_view_count": null,
            "_view_module": "@jupyter-widgets/base",
            "_view_module_version": "1.2.0",
            "_view_name": "StyleView",
            "description_width": ""
          }
        },
        "144c2e84754f4c21b0281d97b79ec204": {
          "model_module": "@jupyter-widgets/controls",
          "model_module_version": "1.5.0",
          "model_name": "DescriptionStyleModel",
          "state": {
            "_model_module": "@jupyter-widgets/controls",
            "_model_module_version": "1.5.0",
            "_model_name": "DescriptionStyleModel",
            "_view_count": null,
            "_view_module": "@jupyter-widgets/base",
            "_view_module_version": "1.2.0",
            "_view_name": "StyleView",
            "description_width": ""
          }
        },
        "17820dc9779a4e049ccfcf4dc0d3bf34": {
          "model_module": "@jupyter-widgets/base",
          "model_module_version": "1.2.0",
          "model_name": "LayoutModel",
          "state": {
            "_model_module": "@jupyter-widgets/base",
            "_model_module_version": "1.2.0",
            "_model_name": "LayoutModel",
            "_view_count": null,
            "_view_module": "@jupyter-widgets/base",
            "_view_module_version": "1.2.0",
            "_view_name": "LayoutView",
            "align_content": null,
            "align_items": null,
            "align_self": null,
            "border": null,
            "bottom": null,
            "display": null,
            "flex": null,
            "flex_flow": null,
            "grid_area": null,
            "grid_auto_columns": null,
            "grid_auto_flow": null,
            "grid_auto_rows": null,
            "grid_column": null,
            "grid_gap": null,
            "grid_row": null,
            "grid_template_areas": null,
            "grid_template_columns": null,
            "grid_template_rows": null,
            "height": null,
            "justify_content": null,
            "justify_items": null,
            "left": null,
            "margin": null,
            "max_height": null,
            "max_width": null,
            "min_height": null,
            "min_width": null,
            "object_fit": null,
            "object_position": null,
            "order": null,
            "overflow": null,
            "overflow_x": null,
            "overflow_y": null,
            "padding": null,
            "right": null,
            "top": null,
            "visibility": null,
            "width": null
          }
        },
        "1af227b759384791a85ad0eba948b3ee": {
          "model_module": "@jupyter-widgets/base",
          "model_module_version": "1.2.0",
          "model_name": "LayoutModel",
          "state": {
            "_model_module": "@jupyter-widgets/base",
            "_model_module_version": "1.2.0",
            "_model_name": "LayoutModel",
            "_view_count": null,
            "_view_module": "@jupyter-widgets/base",
            "_view_module_version": "1.2.0",
            "_view_name": "LayoutView",
            "align_content": null,
            "align_items": null,
            "align_self": null,
            "border": null,
            "bottom": null,
            "display": null,
            "flex": null,
            "flex_flow": null,
            "grid_area": null,
            "grid_auto_columns": null,
            "grid_auto_flow": null,
            "grid_auto_rows": null,
            "grid_column": null,
            "grid_gap": null,
            "grid_row": null,
            "grid_template_areas": null,
            "grid_template_columns": null,
            "grid_template_rows": null,
            "height": null,
            "justify_content": null,
            "justify_items": null,
            "left": null,
            "margin": null,
            "max_height": null,
            "max_width": null,
            "min_height": null,
            "min_width": null,
            "object_fit": null,
            "object_position": null,
            "order": null,
            "overflow": null,
            "overflow_x": null,
            "overflow_y": null,
            "padding": null,
            "right": null,
            "top": null,
            "visibility": null,
            "width": null
          }
        },
        "23c3bb3c5f0349258c06b556714e9fd0": {
          "model_module": "@jupyter-widgets/controls",
          "model_module_version": "1.5.0",
          "model_name": "HBoxModel",
          "state": {
            "_dom_classes": [],
            "_model_module": "@jupyter-widgets/controls",
            "_model_module_version": "1.5.0",
            "_model_name": "HBoxModel",
            "_view_count": null,
            "_view_module": "@jupyter-widgets/controls",
            "_view_module_version": "1.5.0",
            "_view_name": "HBoxView",
            "box_style": "",
            "children": [
              "IPY_MODEL_5998abab4b91442ab6f9e6910870dc37",
              "IPY_MODEL_75641cf0e9ff4ba1b0a30af4da23e0fa",
              "IPY_MODEL_058bc7b8b46f4f4394b3e5ca3f6b11e4"
            ],
            "layout": "IPY_MODEL_01cb75977edf49a4aab9b4bba1e31a85"
          }
        },
        "23f03e3f5f2e43fda6cdfa077ebbcf07": {
          "model_module": "@jupyter-widgets/base",
          "model_module_version": "1.2.0",
          "model_name": "LayoutModel",
          "state": {
            "_model_module": "@jupyter-widgets/base",
            "_model_module_version": "1.2.0",
            "_model_name": "LayoutModel",
            "_view_count": null,
            "_view_module": "@jupyter-widgets/base",
            "_view_module_version": "1.2.0",
            "_view_name": "LayoutView",
            "align_content": null,
            "align_items": null,
            "align_self": null,
            "border": null,
            "bottom": null,
            "display": null,
            "flex": null,
            "flex_flow": null,
            "grid_area": null,
            "grid_auto_columns": null,
            "grid_auto_flow": null,
            "grid_auto_rows": null,
            "grid_column": null,
            "grid_gap": null,
            "grid_row": null,
            "grid_template_areas": null,
            "grid_template_columns": null,
            "grid_template_rows": null,
            "height": null,
            "justify_content": null,
            "justify_items": null,
            "left": null,
            "margin": null,
            "max_height": null,
            "max_width": null,
            "min_height": null,
            "min_width": null,
            "object_fit": null,
            "object_position": null,
            "order": null,
            "overflow": null,
            "overflow_x": null,
            "overflow_y": null,
            "padding": null,
            "right": null,
            "top": null,
            "visibility": null,
            "width": null
          }
        },
        "2c0aa1afa0a343d4bd74134820013b77": {
          "model_module": "@jupyter-widgets/base",
          "model_module_version": "1.2.0",
          "model_name": "LayoutModel",
          "state": {
            "_model_module": "@jupyter-widgets/base",
            "_model_module_version": "1.2.0",
            "_model_name": "LayoutModel",
            "_view_count": null,
            "_view_module": "@jupyter-widgets/base",
            "_view_module_version": "1.2.0",
            "_view_name": "LayoutView",
            "align_content": null,
            "align_items": null,
            "align_self": null,
            "border": null,
            "bottom": null,
            "display": null,
            "flex": null,
            "flex_flow": null,
            "grid_area": null,
            "grid_auto_columns": null,
            "grid_auto_flow": null,
            "grid_auto_rows": null,
            "grid_column": null,
            "grid_gap": null,
            "grid_row": null,
            "grid_template_areas": null,
            "grid_template_columns": null,
            "grid_template_rows": null,
            "height": null,
            "justify_content": null,
            "justify_items": null,
            "left": null,
            "margin": null,
            "max_height": null,
            "max_width": null,
            "min_height": null,
            "min_width": null,
            "object_fit": null,
            "object_position": null,
            "order": null,
            "overflow": null,
            "overflow_x": null,
            "overflow_y": null,
            "padding": null,
            "right": null,
            "top": null,
            "visibility": null,
            "width": null
          }
        },
        "2d3cc0dd0a42469999b6ffa313c3ebdb": {
          "model_module": "@jupyter-widgets/controls",
          "model_module_version": "1.5.0",
          "model_name": "HTMLModel",
          "state": {
            "_dom_classes": [],
            "_model_module": "@jupyter-widgets/controls",
            "_model_module_version": "1.5.0",
            "_model_name": "HTMLModel",
            "_view_count": null,
            "_view_module": "@jupyter-widgets/controls",
            "_view_module_version": "1.5.0",
            "_view_name": "HTMLView",
            "description": "",
            "description_tooltip": null,
            "layout": "IPY_MODEL_73d3ecb42eb1497ba7cba0a80dc7d2a0",
            "placeholder": "​",
            "style": "IPY_MODEL_0ed5555ef4c74d70b287825f3eeeb970",
            "value": "model-00001-of-00003.safetensors: 100%"
          }
        },
        "3ce612fc186144be8b7de3f4cb63baef": {
          "model_module": "@jupyter-widgets/base",
          "model_module_version": "1.2.0",
          "model_name": "LayoutModel",
          "state": {
            "_model_module": "@jupyter-widgets/base",
            "_model_module_version": "1.2.0",
            "_model_name": "LayoutModel",
            "_view_count": null,
            "_view_module": "@jupyter-widgets/base",
            "_view_module_version": "1.2.0",
            "_view_name": "LayoutView",
            "align_content": null,
            "align_items": null,
            "align_self": null,
            "border": null,
            "bottom": null,
            "display": null,
            "flex": null,
            "flex_flow": null,
            "grid_area": null,
            "grid_auto_columns": null,
            "grid_auto_flow": null,
            "grid_auto_rows": null,
            "grid_column": null,
            "grid_gap": null,
            "grid_row": null,
            "grid_template_areas": null,
            "grid_template_columns": null,
            "grid_template_rows": null,
            "height": null,
            "justify_content": null,
            "justify_items": null,
            "left": null,
            "margin": null,
            "max_height": null,
            "max_width": null,
            "min_height": null,
            "min_width": null,
            "object_fit": null,
            "object_position": null,
            "order": null,
            "overflow": null,
            "overflow_x": null,
            "overflow_y": null,
            "padding": null,
            "right": null,
            "top": null,
            "visibility": null,
            "width": null
          }
        },
        "444ec4d7c7be4ec18f0eab1288f6342e": {
          "model_module": "@jupyter-widgets/base",
          "model_module_version": "1.2.0",
          "model_name": "LayoutModel",
          "state": {
            "_model_module": "@jupyter-widgets/base",
            "_model_module_version": "1.2.0",
            "_model_name": "LayoutModel",
            "_view_count": null,
            "_view_module": "@jupyter-widgets/base",
            "_view_module_version": "1.2.0",
            "_view_name": "LayoutView",
            "align_content": null,
            "align_items": null,
            "align_self": null,
            "border": null,
            "bottom": null,
            "display": null,
            "flex": null,
            "flex_flow": null,
            "grid_area": null,
            "grid_auto_columns": null,
            "grid_auto_flow": null,
            "grid_auto_rows": null,
            "grid_column": null,
            "grid_gap": null,
            "grid_row": null,
            "grid_template_areas": null,
            "grid_template_columns": null,
            "grid_template_rows": null,
            "height": null,
            "justify_content": null,
            "justify_items": null,
            "left": null,
            "margin": null,
            "max_height": null,
            "max_width": null,
            "min_height": null,
            "min_width": null,
            "object_fit": null,
            "object_position": null,
            "order": null,
            "overflow": null,
            "overflow_x": null,
            "overflow_y": null,
            "padding": null,
            "right": null,
            "top": null,
            "visibility": null,
            "width": null
          }
        },
        "464c713956864b31a09c0425dba583e2": {
          "model_module": "@jupyter-widgets/controls",
          "model_module_version": "1.5.0",
          "model_name": "HBoxModel",
          "state": {
            "_dom_classes": [],
            "_model_module": "@jupyter-widgets/controls",
            "_model_module_version": "1.5.0",
            "_model_name": "HBoxModel",
            "_view_count": null,
            "_view_module": "@jupyter-widgets/controls",
            "_view_module_version": "1.5.0",
            "_view_name": "HBoxView",
            "box_style": "",
            "children": [
              "IPY_MODEL_2d3cc0dd0a42469999b6ffa313c3ebdb",
              "IPY_MODEL_53a819ce48124059a72d3a0c37316343",
              "IPY_MODEL_c8ca5d6e1ce94524afb100942040c3ad"
            ],
            "layout": "IPY_MODEL_c8d19e73aa074c5985c1d5b3755082a1"
          }
        },
        "53a819ce48124059a72d3a0c37316343": {
          "model_module": "@jupyter-widgets/controls",
          "model_module_version": "1.5.0",
          "model_name": "FloatProgressModel",
          "state": {
            "_dom_classes": [],
            "_model_module": "@jupyter-widgets/controls",
            "_model_module_version": "1.5.0",
            "_model_name": "FloatProgressModel",
            "_view_count": null,
            "_view_module": "@jupyter-widgets/controls",
            "_view_module_version": "1.5.0",
            "_view_name": "ProgressView",
            "bar_style": "success",
            "description": "",
            "description_tooltip": null,
            "layout": "IPY_MODEL_763bb3ca41ef4b3a8f09e89474f7d7e1",
            "max": 9948687888,
            "min": 0,
            "orientation": "horizontal",
            "style": "IPY_MODEL_b477f6545232498eb403b264afd49002",
            "value": 9948687888
          }
        },
        "5998abab4b91442ab6f9e6910870dc37": {
          "model_module": "@jupyter-widgets/controls",
          "model_module_version": "1.5.0",
          "model_name": "HTMLModel",
          "state": {
            "_dom_classes": [],
            "_model_module": "@jupyter-widgets/controls",
            "_model_module_version": "1.5.0",
            "_model_name": "HTMLModel",
            "_view_count": null,
            "_view_module": "@jupyter-widgets/controls",
            "_view_module_version": "1.5.0",
            "_view_name": "HTMLView",
            "description": "",
            "description_tooltip": null,
            "layout": "IPY_MODEL_2c0aa1afa0a343d4bd74134820013b77",
            "placeholder": "​",
            "style": "IPY_MODEL_606df2fd870543ed9782ae42787aca0e",
            "value": "Upload 3 LFS files: 100%"
          }
        },
        "606df2fd870543ed9782ae42787aca0e": {
          "model_module": "@jupyter-widgets/controls",
          "model_module_version": "1.5.0",
          "model_name": "DescriptionStyleModel",
          "state": {
            "_model_module": "@jupyter-widgets/controls",
            "_model_module_version": "1.5.0",
            "_model_name": "DescriptionStyleModel",
            "_view_count": null,
            "_view_module": "@jupyter-widgets/base",
            "_view_module_version": "1.2.0",
            "_view_name": "StyleView",
            "description_width": ""
          }
        },
        "6c49ad1d181c4e0ba678bae9b8d04877": {
          "model_module": "@jupyter-widgets/controls",
          "model_module_version": "1.5.0",
          "model_name": "DescriptionStyleModel",
          "state": {
            "_model_module": "@jupyter-widgets/controls",
            "_model_module_version": "1.5.0",
            "_model_name": "DescriptionStyleModel",
            "_view_count": null,
            "_view_module": "@jupyter-widgets/base",
            "_view_module_version": "1.2.0",
            "_view_name": "StyleView",
            "description_width": ""
          }
        },
        "73d3ecb42eb1497ba7cba0a80dc7d2a0": {
          "model_module": "@jupyter-widgets/base",
          "model_module_version": "1.2.0",
          "model_name": "LayoutModel",
          "state": {
            "_model_module": "@jupyter-widgets/base",
            "_model_module_version": "1.2.0",
            "_model_name": "LayoutModel",
            "_view_count": null,
            "_view_module": "@jupyter-widgets/base",
            "_view_module_version": "1.2.0",
            "_view_name": "LayoutView",
            "align_content": null,
            "align_items": null,
            "align_self": null,
            "border": null,
            "bottom": null,
            "display": null,
            "flex": null,
            "flex_flow": null,
            "grid_area": null,
            "grid_auto_columns": null,
            "grid_auto_flow": null,
            "grid_auto_rows": null,
            "grid_column": null,
            "grid_gap": null,
            "grid_row": null,
            "grid_template_areas": null,
            "grid_template_columns": null,
            "grid_template_rows": null,
            "height": null,
            "justify_content": null,
            "justify_items": null,
            "left": null,
            "margin": null,
            "max_height": null,
            "max_width": null,
            "min_height": null,
            "min_width": null,
            "object_fit": null,
            "object_position": null,
            "order": null,
            "overflow": null,
            "overflow_x": null,
            "overflow_y": null,
            "padding": null,
            "right": null,
            "top": null,
            "visibility": null,
            "width": null
          }
        },
        "75641cf0e9ff4ba1b0a30af4da23e0fa": {
          "model_module": "@jupyter-widgets/controls",
          "model_module_version": "1.5.0",
          "model_name": "FloatProgressModel",
          "state": {
            "_dom_classes": [],
            "_model_module": "@jupyter-widgets/controls",
            "_model_module_version": "1.5.0",
            "_model_name": "FloatProgressModel",
            "_view_count": null,
            "_view_module": "@jupyter-widgets/controls",
            "_view_module_version": "1.5.0",
            "_view_name": "ProgressView",
            "bar_style": "success",
            "description": "",
            "description_tooltip": null,
            "layout": "IPY_MODEL_1af227b759384791a85ad0eba948b3ee",
            "max": 3,
            "min": 0,
            "orientation": "horizontal",
            "style": "IPY_MODEL_c9618003d40c4680b9dc41640973dab1",
            "value": 3
          }
        },
        "763bb3ca41ef4b3a8f09e89474f7d7e1": {
          "model_module": "@jupyter-widgets/base",
          "model_module_version": "1.2.0",
          "model_name": "LayoutModel",
          "state": {
            "_model_module": "@jupyter-widgets/base",
            "_model_module_version": "1.2.0",
            "_model_name": "LayoutModel",
            "_view_count": null,
            "_view_module": "@jupyter-widgets/base",
            "_view_module_version": "1.2.0",
            "_view_name": "LayoutView",
            "align_content": null,
            "align_items": null,
            "align_self": null,
            "border": null,
            "bottom": null,
            "display": null,
            "flex": null,
            "flex_flow": null,
            "grid_area": null,
            "grid_auto_columns": null,
            "grid_auto_flow": null,
            "grid_auto_rows": null,
            "grid_column": null,
            "grid_gap": null,
            "grid_row": null,
            "grid_template_areas": null,
            "grid_template_columns": null,
            "grid_template_rows": null,
            "height": null,
            "justify_content": null,
            "justify_items": null,
            "left": null,
            "margin": null,
            "max_height": null,
            "max_width": null,
            "min_height": null,
            "min_width": null,
            "object_fit": null,
            "object_position": null,
            "order": null,
            "overflow": null,
            "overflow_x": null,
            "overflow_y": null,
            "padding": null,
            "right": null,
            "top": null,
            "visibility": null,
            "width": null
          }
        },
        "77779027da2e4aa7883eaf6704711845": {
          "model_module": "@jupyter-widgets/base",
          "model_module_version": "1.2.0",
          "model_name": "LayoutModel",
          "state": {
            "_model_module": "@jupyter-widgets/base",
            "_model_module_version": "1.2.0",
            "_model_name": "LayoutModel",
            "_view_count": null,
            "_view_module": "@jupyter-widgets/base",
            "_view_module_version": "1.2.0",
            "_view_name": "LayoutView",
            "align_content": null,
            "align_items": null,
            "align_self": null,
            "border": null,
            "bottom": null,
            "display": null,
            "flex": null,
            "flex_flow": null,
            "grid_area": null,
            "grid_auto_columns": null,
            "grid_auto_flow": null,
            "grid_auto_rows": null,
            "grid_column": null,
            "grid_gap": null,
            "grid_row": null,
            "grid_template_areas": null,
            "grid_template_columns": null,
            "grid_template_rows": null,
            "height": null,
            "justify_content": null,
            "justify_items": null,
            "left": null,
            "margin": null,
            "max_height": null,
            "max_width": null,
            "min_height": null,
            "min_width": null,
            "object_fit": null,
            "object_position": null,
            "order": null,
            "overflow": null,
            "overflow_x": null,
            "overflow_y": null,
            "padding": null,
            "right": null,
            "top": null,
            "visibility": null,
            "width": null
          }
        },
        "80ea31bcb5124549871bd37073f0eb6b": {
          "model_module": "@jupyter-widgets/base",
          "model_module_version": "1.2.0",
          "model_name": "LayoutModel",
          "state": {
            "_model_module": "@jupyter-widgets/base",
            "_model_module_version": "1.2.0",
            "_model_name": "LayoutModel",
            "_view_count": null,
            "_view_module": "@jupyter-widgets/base",
            "_view_module_version": "1.2.0",
            "_view_name": "LayoutView",
            "align_content": null,
            "align_items": null,
            "align_self": null,
            "border": null,
            "bottom": null,
            "display": null,
            "flex": null,
            "flex_flow": null,
            "grid_area": null,
            "grid_auto_columns": null,
            "grid_auto_flow": null,
            "grid_auto_rows": null,
            "grid_column": null,
            "grid_gap": null,
            "grid_row": null,
            "grid_template_areas": null,
            "grid_template_columns": null,
            "grid_template_rows": null,
            "height": null,
            "justify_content": null,
            "justify_items": null,
            "left": null,
            "margin": null,
            "max_height": null,
            "max_width": null,
            "min_height": null,
            "min_width": null,
            "object_fit": null,
            "object_position": null,
            "order": null,
            "overflow": null,
            "overflow_x": null,
            "overflow_y": null,
            "padding": null,
            "right": null,
            "top": null,
            "visibility": null,
            "width": null
          }
        },
        "8c6fbf3ce6f140ba8b0c23d5d4299054": {
          "model_module": "@jupyter-widgets/base",
          "model_module_version": "1.2.0",
          "model_name": "LayoutModel",
          "state": {
            "_model_module": "@jupyter-widgets/base",
            "_model_module_version": "1.2.0",
            "_model_name": "LayoutModel",
            "_view_count": null,
            "_view_module": "@jupyter-widgets/base",
            "_view_module_version": "1.2.0",
            "_view_name": "LayoutView",
            "align_content": null,
            "align_items": null,
            "align_self": null,
            "border": null,
            "bottom": null,
            "display": null,
            "flex": null,
            "flex_flow": null,
            "grid_area": null,
            "grid_auto_columns": null,
            "grid_auto_flow": null,
            "grid_auto_rows": null,
            "grid_column": null,
            "grid_gap": null,
            "grid_row": null,
            "grid_template_areas": null,
            "grid_template_columns": null,
            "grid_template_rows": null,
            "height": null,
            "justify_content": null,
            "justify_items": null,
            "left": null,
            "margin": null,
            "max_height": null,
            "max_width": null,
            "min_height": null,
            "min_width": null,
            "object_fit": null,
            "object_position": null,
            "order": null,
            "overflow": null,
            "overflow_x": null,
            "overflow_y": null,
            "padding": null,
            "right": null,
            "top": null,
            "visibility": null,
            "width": null
          }
        },
        "96b90ec353bd451db89d5f3d604748f9": {
          "model_module": "@jupyter-widgets/controls",
          "model_module_version": "1.5.0",
          "model_name": "HBoxModel",
          "state": {
            "_dom_classes": [],
            "_model_module": "@jupyter-widgets/controls",
            "_model_module_version": "1.5.0",
            "_model_name": "HBoxModel",
            "_view_count": null,
            "_view_module": "@jupyter-widgets/controls",
            "_view_module_version": "1.5.0",
            "_view_name": "HBoxView",
            "box_style": "",
            "children": [
              "IPY_MODEL_b85b025df37d45298afe2628a4aa40ca",
              "IPY_MODEL_e7e445671336415a9f6bd07b3c68fe25",
              "IPY_MODEL_b7c6bf4a7c9448b08274a8ba81c15fda"
            ],
            "layout": "IPY_MODEL_444ec4d7c7be4ec18f0eab1288f6342e"
          }
        },
        "a404bafdf5dd4d61b52fee2612ae8999": {
          "model_module": "@jupyter-widgets/base",
          "model_module_version": "1.2.0",
          "model_name": "LayoutModel",
          "state": {
            "_model_module": "@jupyter-widgets/base",
            "_model_module_version": "1.2.0",
            "_model_name": "LayoutModel",
            "_view_count": null,
            "_view_module": "@jupyter-widgets/base",
            "_view_module_version": "1.2.0",
            "_view_name": "LayoutView",
            "align_content": null,
            "align_items": null,
            "align_self": null,
            "border": null,
            "bottom": null,
            "display": null,
            "flex": null,
            "flex_flow": null,
            "grid_area": null,
            "grid_auto_columns": null,
            "grid_auto_flow": null,
            "grid_auto_rows": null,
            "grid_column": null,
            "grid_gap": null,
            "grid_row": null,
            "grid_template_areas": null,
            "grid_template_columns": null,
            "grid_template_rows": null,
            "height": null,
            "justify_content": null,
            "justify_items": null,
            "left": null,
            "margin": null,
            "max_height": null,
            "max_width": null,
            "min_height": null,
            "min_width": null,
            "object_fit": null,
            "object_position": null,
            "order": null,
            "overflow": null,
            "overflow_x": null,
            "overflow_y": null,
            "padding": null,
            "right": null,
            "top": null,
            "visibility": null,
            "width": null
          }
        },
        "a56a7a492ab8428fba32ce4f139f0858": {
          "model_module": "@jupyter-widgets/controls",
          "model_module_version": "1.5.0",
          "model_name": "ProgressStyleModel",
          "state": {
            "_model_module": "@jupyter-widgets/controls",
            "_model_module_version": "1.5.0",
            "_model_name": "ProgressStyleModel",
            "_view_count": null,
            "_view_module": "@jupyter-widgets/base",
            "_view_module_version": "1.2.0",
            "_view_name": "StyleView",
            "bar_color": null,
            "description_width": ""
          }
        },
        "aab17143c588462b8a9c90d92bef0436": {
          "model_module": "@jupyter-widgets/controls",
          "model_module_version": "1.5.0",
          "model_name": "DescriptionStyleModel",
          "state": {
            "_model_module": "@jupyter-widgets/controls",
            "_model_module_version": "1.5.0",
            "_model_name": "DescriptionStyleModel",
            "_view_count": null,
            "_view_module": "@jupyter-widgets/base",
            "_view_module_version": "1.2.0",
            "_view_name": "StyleView",
            "description_width": ""
          }
        },
        "ae5c31914387458189c097a99571dbf9": {
          "model_module": "@jupyter-widgets/controls",
          "model_module_version": "1.5.0",
          "model_name": "ProgressStyleModel",
          "state": {
            "_model_module": "@jupyter-widgets/controls",
            "_model_module_version": "1.5.0",
            "_model_name": "ProgressStyleModel",
            "_view_count": null,
            "_view_module": "@jupyter-widgets/base",
            "_view_module_version": "1.2.0",
            "_view_name": "StyleView",
            "bar_color": null,
            "description_width": ""
          }
        },
        "afad0d15a82c41699650c7e1b07569fb": {
          "model_module": "@jupyter-widgets/controls",
          "model_module_version": "1.5.0",
          "model_name": "DescriptionStyleModel",
          "state": {
            "_model_module": "@jupyter-widgets/controls",
            "_model_module_version": "1.5.0",
            "_model_name": "DescriptionStyleModel",
            "_view_count": null,
            "_view_module": "@jupyter-widgets/base",
            "_view_module_version": "1.2.0",
            "_view_name": "StyleView",
            "description_width": ""
          }
        },
        "b477f6545232498eb403b264afd49002": {
          "model_module": "@jupyter-widgets/controls",
          "model_module_version": "1.5.0",
          "model_name": "ProgressStyleModel",
          "state": {
            "_model_module": "@jupyter-widgets/controls",
            "_model_module_version": "1.5.0",
            "_model_name": "ProgressStyleModel",
            "_view_count": null,
            "_view_module": "@jupyter-widgets/base",
            "_view_module_version": "1.2.0",
            "_view_name": "StyleView",
            "bar_color": null,
            "description_width": ""
          }
        },
        "b645cc5852a34f459bca884812cbd838": {
          "model_module": "@jupyter-widgets/controls",
          "model_module_version": "1.5.0",
          "model_name": "FloatProgressModel",
          "state": {
            "_dom_classes": [],
            "_model_module": "@jupyter-widgets/controls",
            "_model_module_version": "1.5.0",
            "_model_name": "FloatProgressModel",
            "_view_count": null,
            "_view_module": "@jupyter-widgets/controls",
            "_view_module_version": "1.5.0",
            "_view_name": "ProgressView",
            "bar_style": "success",
            "description": "",
            "description_tooltip": null,
            "layout": "IPY_MODEL_e41e595430c643f6a830bcbe761afc7b",
            "max": 6178959040,
            "min": 0,
            "orientation": "horizontal",
            "style": "IPY_MODEL_ae5c31914387458189c097a99571dbf9",
            "value": 6178959040
          }
        },
        "b7c6bf4a7c9448b08274a8ba81c15fda": {
          "model_module": "@jupyter-widgets/controls",
          "model_module_version": "1.5.0",
          "model_name": "HTMLModel",
          "state": {
            "_dom_classes": [],
            "_model_module": "@jupyter-widgets/controls",
            "_model_module_version": "1.5.0",
            "_model_name": "HTMLModel",
            "_view_count": null,
            "_view_module": "@jupyter-widgets/controls",
            "_view_module_version": "1.5.0",
            "_view_name": "HTMLView",
            "description": "",
            "description_tooltip": null,
            "layout": "IPY_MODEL_80ea31bcb5124549871bd37073f0eb6b",
            "placeholder": "​",
            "style": "IPY_MODEL_aab17143c588462b8a9c90d92bef0436",
            "value": " 9.90G/9.90G [06:53&lt;00:00, 27.6MB/s]"
          }
        },
        "b85b025df37d45298afe2628a4aa40ca": {
          "model_module": "@jupyter-widgets/controls",
          "model_module_version": "1.5.0",
          "model_name": "HTMLModel",
          "state": {
            "_dom_classes": [],
            "_model_module": "@jupyter-widgets/controls",
            "_model_module_version": "1.5.0",
            "_model_name": "HTMLModel",
            "_view_count": null,
            "_view_module": "@jupyter-widgets/controls",
            "_view_module_version": "1.5.0",
            "_view_name": "HTMLView",
            "description": "",
            "description_tooltip": null,
            "layout": "IPY_MODEL_17820dc9779a4e049ccfcf4dc0d3bf34",
            "placeholder": "​",
            "style": "IPY_MODEL_6c49ad1d181c4e0ba678bae9b8d04877",
            "value": "model-00002-of-00003.safetensors: 100%"
          }
        },
        "bf731c41c6674cf1a7848d3005f977aa": {
          "model_module": "@jupyter-widgets/controls",
          "model_module_version": "1.5.0",
          "model_name": "DescriptionStyleModel",
          "state": {
            "_model_module": "@jupyter-widgets/controls",
            "_model_module_version": "1.5.0",
            "_model_name": "DescriptionStyleModel",
            "_view_count": null,
            "_view_module": "@jupyter-widgets/base",
            "_view_module_version": "1.2.0",
            "_view_name": "StyleView",
            "description_width": ""
          }
        },
        "c8ca5d6e1ce94524afb100942040c3ad": {
          "model_module": "@jupyter-widgets/controls",
          "model_module_version": "1.5.0",
          "model_name": "HTMLModel",
          "state": {
            "_dom_classes": [],
            "_model_module": "@jupyter-widgets/controls",
            "_model_module_version": "1.5.0",
            "_model_name": "HTMLModel",
            "_view_count": null,
            "_view_module": "@jupyter-widgets/controls",
            "_view_module_version": "1.5.0",
            "_view_name": "HTMLView",
            "description": "",
            "description_tooltip": null,
            "layout": "IPY_MODEL_3ce612fc186144be8b7de3f4cb63baef",
            "placeholder": "​",
            "style": "IPY_MODEL_bf731c41c6674cf1a7848d3005f977aa",
            "value": " 9.95G/9.95G [07:06&lt;00:00, 25.9MB/s]"
          }
        },
        "c8d19e73aa074c5985c1d5b3755082a1": {
          "model_module": "@jupyter-widgets/base",
          "model_module_version": "1.2.0",
          "model_name": "LayoutModel",
          "state": {
            "_model_module": "@jupyter-widgets/base",
            "_model_module_version": "1.2.0",
            "_model_name": "LayoutModel",
            "_view_count": null,
            "_view_module": "@jupyter-widgets/base",
            "_view_module_version": "1.2.0",
            "_view_name": "LayoutView",
            "align_content": null,
            "align_items": null,
            "align_self": null,
            "border": null,
            "bottom": null,
            "display": null,
            "flex": null,
            "flex_flow": null,
            "grid_area": null,
            "grid_auto_columns": null,
            "grid_auto_flow": null,
            "grid_auto_rows": null,
            "grid_column": null,
            "grid_gap": null,
            "grid_row": null,
            "grid_template_areas": null,
            "grid_template_columns": null,
            "grid_template_rows": null,
            "height": null,
            "justify_content": null,
            "justify_items": null,
            "left": null,
            "margin": null,
            "max_height": null,
            "max_width": null,
            "min_height": null,
            "min_width": null,
            "object_fit": null,
            "object_position": null,
            "order": null,
            "overflow": null,
            "overflow_x": null,
            "overflow_y": null,
            "padding": null,
            "right": null,
            "top": null,
            "visibility": null,
            "width": null
          }
        },
        "c9618003d40c4680b9dc41640973dab1": {
          "model_module": "@jupyter-widgets/controls",
          "model_module_version": "1.5.0",
          "model_name": "ProgressStyleModel",
          "state": {
            "_model_module": "@jupyter-widgets/controls",
            "_model_module_version": "1.5.0",
            "_model_name": "ProgressStyleModel",
            "_view_count": null,
            "_view_module": "@jupyter-widgets/base",
            "_view_module_version": "1.2.0",
            "_view_name": "StyleView",
            "bar_color": null,
            "description_width": ""
          }
        },
        "de924dab3b244acd886d324a8fc3fe9a": {
          "model_module": "@jupyter-widgets/controls",
          "model_module_version": "1.5.0",
          "model_name": "HTMLModel",
          "state": {
            "_dom_classes": [],
            "_model_module": "@jupyter-widgets/controls",
            "_model_module_version": "1.5.0",
            "_model_name": "HTMLModel",
            "_view_count": null,
            "_view_module": "@jupyter-widgets/controls",
            "_view_module_version": "1.5.0",
            "_view_name": "HTMLView",
            "description": "",
            "description_tooltip": null,
            "layout": "IPY_MODEL_23f03e3f5f2e43fda6cdfa077ebbcf07",
            "placeholder": "​",
            "style": "IPY_MODEL_afad0d15a82c41699650c7e1b07569fb",
            "value": " 6.18G/6.18G [04:19&lt;00:00, 20.3MB/s]"
          }
        },
        "e41e595430c643f6a830bcbe761afc7b": {
          "model_module": "@jupyter-widgets/base",
          "model_module_version": "1.2.0",
          "model_name": "LayoutModel",
          "state": {
            "_model_module": "@jupyter-widgets/base",
            "_model_module_version": "1.2.0",
            "_model_name": "LayoutModel",
            "_view_count": null,
            "_view_module": "@jupyter-widgets/base",
            "_view_module_version": "1.2.0",
            "_view_name": "LayoutView",
            "align_content": null,
            "align_items": null,
            "align_self": null,
            "border": null,
            "bottom": null,
            "display": null,
            "flex": null,
            "flex_flow": null,
            "grid_area": null,
            "grid_auto_columns": null,
            "grid_auto_flow": null,
            "grid_auto_rows": null,
            "grid_column": null,
            "grid_gap": null,
            "grid_row": null,
            "grid_template_areas": null,
            "grid_template_columns": null,
            "grid_template_rows": null,
            "height": null,
            "justify_content": null,
            "justify_items": null,
            "left": null,
            "margin": null,
            "max_height": null,
            "max_width": null,
            "min_height": null,
            "min_width": null,
            "object_fit": null,
            "object_position": null,
            "order": null,
            "overflow": null,
            "overflow_x": null,
            "overflow_y": null,
            "padding": null,
            "right": null,
            "top": null,
            "visibility": null,
            "width": null
          }
        },
        "e7e445671336415a9f6bd07b3c68fe25": {
          "model_module": "@jupyter-widgets/controls",
          "model_module_version": "1.5.0",
          "model_name": "FloatProgressModel",
          "state": {
            "_dom_classes": [],
            "_model_module": "@jupyter-widgets/controls",
            "_model_module_version": "1.5.0",
            "_model_name": "FloatProgressModel",
            "_view_count": null,
            "_view_module": "@jupyter-widgets/controls",
            "_view_module_version": "1.5.0",
            "_view_name": "ProgressView",
            "bar_style": "success",
            "description": "",
            "description_tooltip": null,
            "layout": "IPY_MODEL_8c6fbf3ce6f140ba8b0c23d5d4299054",
            "max": 9904123616,
            "min": 0,
            "orientation": "horizontal",
            "style": "IPY_MODEL_a56a7a492ab8428fba32ce4f139f0858",
            "value": 9904123616
          }
        },
        "f6e7615470304194b98f4245dc7b21ec": {
          "model_module": "@jupyter-widgets/controls",
          "model_module_version": "1.5.0",
          "model_name": "DescriptionStyleModel",
          "state": {
            "_model_module": "@jupyter-widgets/controls",
            "_model_module_version": "1.5.0",
            "_model_name": "DescriptionStyleModel",
            "_view_count": null,
            "_view_module": "@jupyter-widgets/base",
            "_view_module_version": "1.2.0",
            "_view_name": "StyleView",
            "description_width": ""
          }
        },
        "f90a7b71aca740e5a09392a7c69b23b5": {
          "model_module": "@jupyter-widgets/controls",
          "model_module_version": "1.5.0",
          "model_name": "HTMLModel",
          "state": {
            "_dom_classes": [],
            "_model_module": "@jupyter-widgets/controls",
            "_model_module_version": "1.5.0",
            "_model_name": "HTMLModel",
            "_view_count": null,
            "_view_module": "@jupyter-widgets/controls",
            "_view_module_version": "1.5.0",
            "_view_name": "HTMLView",
            "description": "",
            "description_tooltip": null,
            "layout": "IPY_MODEL_fed9230daa0c4059a477f4416ab01682",
            "placeholder": "​",
            "style": "IPY_MODEL_144c2e84754f4c21b0281d97b79ec204",
            "value": "model-00003-of-00003.safetensors: 100%"
          }
        },
        "fed9230daa0c4059a477f4416ab01682": {
          "model_module": "@jupyter-widgets/base",
          "model_module_version": "1.2.0",
          "model_name": "LayoutModel",
          "state": {
            "_model_module": "@jupyter-widgets/base",
            "_model_module_version": "1.2.0",
            "_model_name": "LayoutModel",
            "_view_count": null,
            "_view_module": "@jupyter-widgets/base",
            "_view_module_version": "1.2.0",
            "_view_name": "LayoutView",
            "align_content": null,
            "align_items": null,
            "align_self": null,
            "border": null,
            "bottom": null,
            "display": null,
            "flex": null,
            "flex_flow": null,
            "grid_area": null,
            "grid_auto_columns": null,
            "grid_auto_flow": null,
            "grid_auto_rows": null,
            "grid_column": null,
            "grid_gap": null,
            "grid_row": null,
            "grid_template_areas": null,
            "grid_template_columns": null,
            "grid_template_rows": null,
            "height": null,
            "justify_content": null,
            "justify_items": null,
            "left": null,
            "margin": null,
            "max_height": null,
            "max_width": null,
            "min_height": null,
            "min_width": null,
            "object_fit": null,
            "object_position": null,
            "order": null,
            "overflow": null,
            "overflow_x": null,
            "overflow_y": null,
            "padding": null,
            "right": null,
            "top": null,
            "visibility": null,
            "width": null
          }
        },
        "ffba73be93ba4744a26851c00ceda20b": {
          "model_module": "@jupyter-widgets/controls",
          "model_module_version": "1.5.0",
          "model_name": "HBoxModel",
          "state": {
            "_dom_classes": [],
            "_model_module": "@jupyter-widgets/controls",
            "_model_module_version": "1.5.0",
            "_model_name": "HBoxModel",
            "_view_count": null,
            "_view_module": "@jupyter-widgets/controls",
            "_view_module_version": "1.5.0",
            "_view_name": "HBoxView",
            "box_style": "",
            "children": [
              "IPY_MODEL_f90a7b71aca740e5a09392a7c69b23b5",
              "IPY_MODEL_b645cc5852a34f459bca884812cbd838",
              "IPY_MODEL_de924dab3b244acd886d324a8fc3fe9a"
            ],
            "layout": "IPY_MODEL_a404bafdf5dd4d61b52fee2612ae8999"
          }
        }
      }
    }
  },
  "nbformat": 4,
  "nbformat_minor": 0
}
